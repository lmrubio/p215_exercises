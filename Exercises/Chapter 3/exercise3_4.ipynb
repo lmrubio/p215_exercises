{
 "cells": [
  {
   "cell_type": "markdown",
   "metadata": {},
   "source": [
    "# Small World Graphs\n",
    "\n",
    "Code examples from [Think Complexity, 2nd edition](https://thinkcomplex.com).\n",
    "\n",
    "Copyright 2016 Allen Downey, [MIT License](http://opensource.org/licenses/MIT)"
   ]
  },
  {
   "cell_type": "code",
   "execution_count": null,
   "metadata": {},
   "outputs": [],
   "source": [
    "%matplotlib inline\n",
    "\n",
    "import matplotlib.pyplot as plt\n",
    "import networkx as nx\n",
    "import numpy as np\n",
    "import seaborn as sns\n",
    "from collections import deque\n",
    "\n",
    "from utils import decorate, savefig\n",
    "\n",
    "# I set the random seed so the notebook \n",
    "# produces the same results every time.\n",
    "np.random.seed(17)"
   ]
  },
  {
   "cell_type": "code",
   "execution_count": null,
   "metadata": {},
   "outputs": [],
   "source": [
    "# node colors for drawing networks\n",
    "colors = sns.color_palette('pastel', 5)\n",
    "#sns.palplot(colors)\n",
    "sns.set_palette(colors)"
   ]
  },
  {
   "cell_type": "markdown",
   "metadata": {},
   "source": [
    "**Exercise 3.4:** In the book, I claimed that Dijkstra's algorithm does not work unless it uses BFS.  Write a version of `shortest_path_dijkstra` that uses DFS and test it on a few examples to see what goes wrong."
   ]
  },
  {
   "cell_type": "code",
   "execution_count": null,
   "metadata": {},
   "outputs": [],
   "source": [
    "def shortest_path_dfs(G, source):\n",
    "    #Modified shortest_path_dijkstra that uses a dfs instead of a bfs\n",
    "    #In the book, performing a BFS uses the first element (pop(0) or popleft()) is used.\n",
    "    #We replace that line to turn the BFS implementation into a DFS.\n",
    "    dist = {source: 0}\n",
    "    queue = deque([source])\n",
    "    while queue:\n",
    "        node = queue.pop()\n",
    "        new_dist = dist[node] + 1\n",
    "\n",
    "        neighbors = set(G[node]).difference(dist)\n",
    "        for n in neighbors:\n",
    "            dist[n] = new_dist\n",
    "        \n",
    "        queue.extend(neighbors)\n",
    "    return dist"
   ]
  },
  {
   "cell_type": "markdown",
   "metadata": {},
   "source": [
    "Let's test this implementation to measure the path lengths in a regular graph with 10 nodes each with 6 nearest neighors"
   ]
  },
  {
   "cell_type": "code",
   "execution_count": null,
   "metadata": {},
   "outputs": [],
   "source": [
    "#From exercise 3.1, we use this to generate graphs for testing\n",
    "\n",
    "#Function from the notebook\n",
    "def adjacent_edges(nodes, halfk):\n",
    "    \"\"\"Yields edges between each node and `halfk` neighbors.\n",
    "    \n",
    "    halfk: number of edges from each node\n",
    "    \"\"\"\n",
    "    n = len(nodes)\n",
    "    for i, u in enumerate(nodes):\n",
    "        for j in range(i+1, i+halfk+1):\n",
    "            v = nodes[j % n]\n",
    "            yield u, v\n",
    "            \n",
    "            \n",
    "def opposite_edge(nodes):\n",
    "    n = len(nodes)\n",
    "    halfn = n//2\n",
    "    \n",
    "    #We take the opposite node (for even number of nodes) by taking half the length of the list\n",
    "    #and using that to index the nodes. Taking the modulon guarantees that you are periodically \n",
    "    #indexing within the length the list\n",
    "    \n",
    "    for i, u in enumerate(nodes):\n",
    "        index = (i + halfn)%n\n",
    "        v = nodes[index]\n",
    "        yield u,v\n",
    "        \n",
    "\n",
    "\n",
    "def make_regular_graph(n, k):\n",
    "    #This function uses adjacent_edges and opposite_edge (when k is odd)\n",
    "    #Getting the remainder and the quotient is used for checking if\n",
    "    #k is odd or not.\n",
    "    \n",
    "    #A regular graph is a graph that has nodes that have the same number of neighbors\n",
    "    #In this case, n is the number of nodes and k is the number of neighbors.\n",
    "    \n",
    "    quo_k = k//2\n",
    "    mod_k = k%2\n",
    "    \n",
    "    G = nx.Graph()\n",
    "    nodes = range(n)\n",
    "    G.add_nodes_from(nodes)\n",
    "    G.add_edges_from(adjacent_edges(nodes, quo_k))\n",
    "    \n",
    "    if mod_k == 1: #when k is odd\n",
    "        if n%2 == 0: #when nodes are even\n",
    "            G.add_edges_from(opposite_edge(nodes))\n",
    "        else:\n",
    "            raise ValueError(\"Regular graph cannot be generated if both n and k are both odd.\")\n",
    "            \n",
    "    return G\n",
    "\n",
    "#From exercise 3.2, we use this to compare results with the 'faulty' shortest path function\n",
    "def shortest_path_length_mod(G, start):\n",
    "    #Modified plain_bfs to get path lengths instead\n",
    "    #G is the graph and start is the starting node.\n",
    "    \n",
    "    dist_counter = 0 #Starting distance from start\n",
    "    dist = {}\n",
    "    nextlevel = {start} #Initialize while loop with the starting node\n",
    "    \n",
    "    while nextlevel:\n",
    "        thislevel = nextlevel\n",
    "        nextlevel = set()\n",
    "        for v in thislevel:\n",
    "            if v not in dist: #only execute if v is not yet in the list of distances\n",
    "                dist[v] = dist_counter #if the v is not in the dictionary\n",
    "                nextlevel.update(G[v]) #Update set with neighbors of v\n",
    "        dist_counter += 1 #add 1 to distance\n",
    "    \n",
    "    return dist"
   ]
  },
  {
   "cell_type": "code",
   "execution_count": null,
   "metadata": {},
   "outputs": [],
   "source": [
    "graph = make_regular_graph(10, 6)"
   ]
  },
  {
   "cell_type": "code",
   "execution_count": null,
   "metadata": {},
   "outputs": [],
   "source": [
    "nx.draw_circular(graph, \n",
    "                 node_color='C1', \n",
    "                 node_size=1000, \n",
    "                 with_labels=True)"
   ]
  },
  {
   "cell_type": "code",
   "execution_count": null,
   "metadata": {},
   "outputs": [],
   "source": [
    "dist_dfs = shortest_path_dfs(graph, 0)"
   ]
  },
  {
   "cell_type": "code",
   "execution_count": null,
   "metadata": {},
   "outputs": [],
   "source": [
    "dist_bfs = shortest_path_length_mod(graph, 0)"
   ]
  },
  {
   "cell_type": "code",
   "execution_count": null,
   "metadata": {},
   "outputs": [],
   "source": [
    "dist_nx = nx.shortest_path_length(graph, 0)"
   ]
  },
  {
   "cell_type": "code",
   "execution_count": null,
   "metadata": {},
   "outputs": [],
   "source": [
    "dist_dfs == dist_bfs"
   ]
  },
  {
   "cell_type": "code",
   "execution_count": null,
   "metadata": {},
   "outputs": [],
   "source": [
    "dist_dfs == dist_nx"
   ]
  },
  {
   "cell_type": "code",
   "execution_count": null,
   "metadata": {},
   "outputs": [],
   "source": [
    "dist_bfs == dist_nx"
   ]
  },
  {
   "cell_type": "markdown",
   "metadata": {},
   "source": [
    "We see that only the distance with the dfs implementation of shortest path gets the wrong answer."
   ]
  }
 ],
 "metadata": {
  "kernelspec": {
   "display_name": "Python 3",
   "language": "python",
   "name": "python3"
  },
  "language_info": {
   "codemirror_mode": {
    "name": "ipython",
    "version": 3
   },
   "file_extension": ".py",
   "mimetype": "text/x-python",
   "name": "python",
   "nbconvert_exporter": "python",
   "pygments_lexer": "ipython3",
   "version": "3.7.6"
  }
 },
 "nbformat": 4,
 "nbformat_minor": 1
}
