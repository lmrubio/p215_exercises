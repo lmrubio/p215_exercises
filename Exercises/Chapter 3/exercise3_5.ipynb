{
 "cells": [
  {
   "cell_type": "markdown",
   "metadata": {},
   "source": [
    "# Small World Graphs\n",
    "\n",
    "Code examples from [Think Complexity, 2nd edition](https://thinkcomplex.com).\n",
    "\n",
    "Copyright 2016 Allen Downey, [MIT License](http://opensource.org/licenses/MIT)"
   ]
  },
  {
   "cell_type": "code",
   "execution_count": 1,
   "metadata": {},
   "outputs": [],
   "source": [
    "%matplotlib inline\n",
    "\n",
    "import matplotlib.pyplot as plt\n",
    "import networkx as nx\n",
    "import numpy as np\n",
    "import seaborn as sns\n",
    "\n",
    "from utils import decorate, savefig\n",
    "\n",
    "# I set the random seed so the notebook \n",
    "# produces the same results every time.\n",
    "np.random.seed(17)"
   ]
  },
  {
   "cell_type": "code",
   "execution_count": 2,
   "metadata": {},
   "outputs": [],
   "source": [
    "# node colors for drawing networks\n",
    "colors = sns.color_palette('pastel', 5)\n",
    "#sns.palplot(colors)\n",
    "sns.set_palette(colors)"
   ]
  },
  {
   "cell_type": "code",
   "execution_count": 3,
   "metadata": {},
   "outputs": [],
   "source": [
    "#From Chapter 3 notebook:\n",
    "\n",
    "def adjacent_edges(nodes, halfk):\n",
    "    \"\"\"Yields edges between each node and `halfk` neighbors.\n",
    "    \n",
    "    halfk: number of edges from each node\n",
    "    \"\"\"\n",
    "    n = len(nodes)\n",
    "    for i, u in enumerate(nodes):\n",
    "        for j in range(i+1, i+halfk+1):\n",
    "            v = nodes[j % n]\n",
    "            yield u, v\n",
    "\n",
    "def make_ring_lattice(n, k):\n",
    "    \"\"\"Makes a ring lattice with `n` nodes and degree `k`.\n",
    "    \n",
    "    Note: this only works correctly if k is even.\n",
    "    \n",
    "    n: number of nodes\n",
    "    k: degree of each node\n",
    "    \"\"\"\n",
    "    G = nx.Graph()\n",
    "    nodes = range(n)\n",
    "    G.add_nodes_from(nodes)\n",
    "    G.add_edges_from(adjacent_edges(nodes, k//2))\n",
    "    return G\n",
    "\n",
    "def make_ws_graph(n, k, p):\n",
    "    \"\"\"Makes a Watts-Strogatz graph.\n",
    "    \n",
    "    n: number of nodes\n",
    "    k: degree of each node\n",
    "    p: probability of rewiring an edge\n",
    "    \"\"\"\n",
    "    ws = make_ring_lattice(n, k)\n",
    "    rewire(ws, p)\n",
    "    return ws\n",
    "\n",
    "def rewire(G, p):\n",
    "    \"\"\"Rewires each edge with probability `p`.\n",
    "    \n",
    "    G: Graph\n",
    "    p: float\n",
    "    \"\"\"\n",
    "    nodes = set(G)\n",
    "    for u, v in G.edges():\n",
    "        if flip(p):\n",
    "            choices = nodes - {u} - set(G[u])\n",
    "            new_v = np.random.choice(list(choices))\n",
    "            G.remove_edge(u, v)\n",
    "            G.add_edge(u, new_v)\n",
    "            \n",
    "def flip(p):\n",
    "    \"\"\"Returns True with probability `p`.\"\"\"\n",
    "    return np.random.random() < p"
   ]
  },
  {
   "cell_type": "markdown",
   "metadata": {},
   "source": [
    "**Exercise 3.5:** A natural question about the Watts and Strogatz paper is whether the small world phenomenon is specific to their generative model or whether other similar models yield the same qualitative result (high clustering and low path lengths).\n",
    "\n",
    "To answer this question, choose a variation of the Watt-Strogatz model and repeat the experiment."
   ]
  },
  {
   "cell_type": "markdown",
   "metadata": {},
   "source": [
    "We consider a rewiring strategy that preferably chooses to rewire nodes among a set of kth neighbors e.g. 2nd nearest neighbor, etc. (In the book, the rewiring chooses among all non-neighboring nodes). We implement a function that gets the kth neighbors of a specific node."
   ]
  },
  {
   "cell_type": "code",
   "execution_count": 4,
   "metadata": {},
   "outputs": [],
   "source": [
    "def kth_neighbor(G, start, k):\n",
    "    #Function that gets all k neighbors of the node start for a graph G.\n",
    "    neighbors = set([start])\n",
    "    for i in range(k):\n",
    "        neighbors = set((neighbor for n in neighbors for neighbor in G[n]))\n",
    "    return neighbors"
   ]
  },
  {
   "cell_type": "markdown",
   "metadata": {},
   "source": [
    "We create a new rewiring function:"
   ]
  },
  {
   "cell_type": "code",
   "execution_count": 5,
   "metadata": {},
   "outputs": [],
   "source": [
    "def new_rewire(G, p, k_neighbor):\n",
    "    nodes = set(G)\n",
    "    original_edges = G.edges()\n",
    "    for u, v in original_edges:\n",
    "        if (np.random.random() < p):#True if random number is less than threshold, if p = 1, 100% chance to rewire edges\n",
    "            choices = nodes - {u} - kth_neighbor(G, u, k_neighbor)\n",
    "            new_v = np.random.choice(list(choices))\n",
    "            G.remove_edge(u, v)\n",
    "            G.add_edge(u, new_v)"
   ]
  },
  {
   "cell_type": "markdown",
   "metadata": {},
   "source": [
    "We can test show the possible choices for neighbors here"
   ]
  },
  {
   "cell_type": "code",
   "execution_count": 6,
   "metadata": {},
   "outputs": [],
   "source": [
    "test = make_ring_lattice(1000,100)"
   ]
  },
  {
   "cell_type": "code",
   "execution_count": 7,
   "metadata": {},
   "outputs": [
    {
     "data": {
      "text/plain": [
       "799"
      ]
     },
     "execution_count": 7,
     "metadata": {},
     "output_type": "execute_result"
    }
   ],
   "source": [
    "nodes = set(test)\n",
    "u = 0\n",
    "k_neighbor = 2\n",
    "len(nodes - {u} - kth_neighbor(test, u, k_neighbor))"
   ]
  },
  {
   "cell_type": "code",
   "execution_count": 8,
   "metadata": {},
   "outputs": [
    {
     "data": {
      "text/plain": [
       "899"
      ]
     },
     "execution_count": 8,
     "metadata": {},
     "output_type": "execute_result"
    }
   ],
   "source": [
    "nodes = set(test)\n",
    "u = 0\n",
    "len(nodes - {u} - set(test[u]))"
   ]
  },
  {
   "cell_type": "markdown",
   "metadata": {},
   "source": [
    "We see here that the kth_neighbor has more restricted options for nodes to rewire to compared to the original rewiring in the book. We can run the same experiment as in the example to see if changing the rewiring shows the same properties expected for a WS network."
   ]
  },
  {
   "cell_type": "code",
   "execution_count": 9,
   "metadata": {},
   "outputs": [],
   "source": [
    "def make_ws_graph_modified(n, k, p, k_neighbor = 2):\n",
    "    #A modified WS with a different wiring strategy\n",
    "    ws = make_ring_lattice(n, k)\n",
    "    new_rewire(ws, p, k_neighbor)\n",
    "    return ws"
   ]
  },
  {
   "cell_type": "code",
   "execution_count": 10,
   "metadata": {},
   "outputs": [],
   "source": [
    "#From the original notebook:\n",
    "\n",
    "#For calculating characteristic path length:\n",
    "\n",
    "def path_lengths(G):\n",
    "    length_iter = nx.shortest_path_length(G)\n",
    "    for source, dist_map in length_iter:\n",
    "        for dest, dist in dist_map.items():\n",
    "            yield dist\n",
    "\n",
    "def characteristic_path_length(G):\n",
    "    return np.mean(list(path_lengths(G)))\n",
    "\n",
    "### For measuring clustering\n",
    "\n",
    "def node_clustering(G, u):\n",
    "    \"\"\"Computes local clustering coefficient for `u`.\n",
    "    \n",
    "    G: Graph\n",
    "    u: node\n",
    "    \n",
    "    returns: float\n",
    "    \"\"\"\n",
    "    neighbors = G[u]\n",
    "    k = len(neighbors)\n",
    "    if k < 2:\n",
    "        return np.nan\n",
    "        \n",
    "    possible = k * (k-1) / 2\n",
    "    exist = 0    \n",
    "    for v, w in all_pairs(neighbors):\n",
    "        if G.has_edge(v, w):\n",
    "            exist +=1\n",
    "    return exist / possible\n",
    "\n",
    "def all_pairs(nodes):\n",
    "    \"\"\"Generates all pairs of nodes.\"\"\"\n",
    "    for i, u in enumerate(nodes):\n",
    "        for j, v in enumerate(nodes):\n",
    "            if i < j:\n",
    "                yield u, v\n",
    "\n",
    "def clustering_coefficient(G):\n",
    "    \"\"\"Average of the local clustering coefficients.\n",
    "    \n",
    "    G: Graph\n",
    "    \n",
    "    returns: float\n",
    "    \"\"\"\n",
    "    cu = [node_clustering(G, node) for node in G]\n",
    "    return np.nanmean(cu)"
   ]
  },
  {
   "cell_type": "code",
   "execution_count": 11,
   "metadata": {},
   "outputs": [],
   "source": [
    "def run_one_graph_modified(n, k, p, k_neighbor = 2):\n",
    "    ws = make_ws_graph_modified(n, k, p, k_neighbor)  \n",
    "    mpl = characteristic_path_length(ws)\n",
    "    cc = clustering_coefficient(ws)\n",
    "    #print(mpl, cc)\n",
    "    return mpl, cc"
   ]
  },
  {
   "cell_type": "code",
   "execution_count": 12,
   "metadata": {},
   "outputs": [],
   "source": [
    "def run_experiment(ps, n=1000, k=10, iters=20):\n",
    "    \"\"\"Computes stats for WS graphs with a range of `p`.\n",
    "    \n",
    "    ps: sequence of `p` to try\n",
    "    n: number of nodes\n",
    "    k: degree of each node\n",
    "    iters: number of times to run for each `p`\n",
    "    \n",
    "    returns:\n",
    "    \"\"\"\n",
    "    res = []\n",
    "    for p in ps:\n",
    "        print('Running %s iterations for p = %f, n = %s' % (iters, p, n))\n",
    "        t = [run_one_graph_modified(n, k, p) for _ in range(iters)]\n",
    "        means = np.array(t).mean(axis=0)\n",
    "        res.append(means)\n",
    "    return np.array(res)"
   ]
  },
  {
   "cell_type": "code",
   "execution_count": 13,
   "metadata": {},
   "outputs": [
    {
     "name": "stdout",
     "output_type": "stream",
     "text": [
      "Running 20 iterations for p = 0.000100, n = 1000\n",
      "Running 20 iterations for p = 0.000316, n = 1000\n",
      "Running 20 iterations for p = 0.001000, n = 1000\n",
      "Running 20 iterations for p = 0.003162, n = 1000\n",
      "Running 20 iterations for p = 0.010000, n = 1000\n",
      "Running 20 iterations for p = 0.031623, n = 1000\n",
      "Running 20 iterations for p = 0.100000, n = 1000\n",
      "Running 20 iterations for p = 0.316228, n = 1000\n",
      "Running 20 iterations for p = 1.000000, n = 1000\n"
     ]
    }
   ],
   "source": [
    "ps = np.logspace(-4, 0, 9) #From 10^-4 to 1\n",
    "res = run_experiment(ps)"
   ]
  },
  {
   "cell_type": "code",
   "execution_count": 14,
   "metadata": {},
   "outputs": [],
   "source": [
    "L, C = np.transpose(res)"
   ]
  },
  {
   "cell_type": "code",
   "execution_count": 15,
   "metadata": {},
   "outputs": [],
   "source": [
    "L /= L[0]\n",
    "C /= C[0]\n",
    "\n",
    "#Normalize to start at 1"
   ]
  },
  {
   "cell_type": "code",
   "execution_count": 16,
   "metadata": {},
   "outputs": [
    {
     "data": {
      "image/png": "[encoded data removed]",
      "text/plain": [
       "<Figure size 432x288 with 1 Axes>"
      ]
     },
     "metadata": {
      "needs_background": "light"
     },
     "output_type": "display_data"
    }
   ],
   "source": [
    "plt.plot(ps, C, 's-', linewidth=1, label='C(p) / C(0)')\n",
    "plt.plot(ps, L, 'o-', linewidth=1, label='L(p) / L(0)')\n",
    "decorate(xlabel='Rewiring probability (p)', xscale='log',\n",
    "         title='Normalized clustering coefficient and path length',\n",
    "         xlim=[0.00009, 1.1], ylim=[-0.01, 1.01])"
   ]
  },
  {
   "cell_type": "markdown",
   "metadata": {},
   "source": [
    "The plot above is the same plot we get as the one in the example. There's high clustering and low path lengths for a considerable number of probabilities as in the example.\n",
    "\n",
    "Let's see what happens for a ring lattice with more neighbors (n = 500, different k)"
   ]
  },
  {
   "cell_type": "code",
   "execution_count": 28,
   "metadata": {},
   "outputs": [
    {
     "name": "stdout",
     "output_type": "stream",
     "text": [
      "Running 20 iterations for p = 0.000100, n = 500\n",
      "Running 20 iterations for p = 0.000316, n = 500\n",
      "Running 20 iterations for p = 0.001000, n = 500\n",
      "Running 20 iterations for p = 0.003162, n = 500\n",
      "Running 20 iterations for p = 0.010000, n = 500\n",
      "Running 20 iterations for p = 0.031623, n = 500\n",
      "Running 20 iterations for p = 0.100000, n = 500\n",
      "Running 20 iterations for p = 0.316228, n = 500\n",
      "Running 20 iterations for p = 1.000000, n = 500\n"
     ]
    },
    {
     "data": {
      "image/png": "[encoded data removed]",
      "text/plain": [
       "<Figure size 432x288 with 1 Axes>"
      ]
     },
     "metadata": {
      "needs_background": "light"
     },
     "output_type": "display_data"
    }
   ],
   "source": [
    "ps = np.logspace(-4, 0, 9) #From 10^-4 to 1\n",
    "\n",
    "res = run_experiment(ps, n = 500, k = 10)\n",
    "L, C = np.transpose(res)\n",
    "L /= L[0]\n",
    "C /= C[0]\n",
    "\n",
    "#Normalize to start at 1\n",
    "\n",
    "plt.plot(ps, C, 's-', linewidth=1, label='C(p) / C(0)')\n",
    "plt.plot(ps, L, 'o-', linewidth=1, label='L(p) / L(0)')\n",
    "decorate(xlabel='Rewiring probability (p)', xscale='log',\n",
    "         title='Normalized clustering coefficient and path length',\n",
    "         xlim=[0.00009, 1.1], ylim=[-0.01, 1.01])"
   ]
  },
  {
   "cell_type": "code",
   "execution_count": 29,
   "metadata": {},
   "outputs": [
    {
     "name": "stdout",
     "output_type": "stream",
     "text": [
      "Running 20 iterations for p = 0.000100, n = 500\n",
      "Running 20 iterations for p = 0.000316, n = 500\n",
      "Running 20 iterations for p = 0.001000, n = 500\n",
      "Running 20 iterations for p = 0.003162, n = 500\n",
      "Running 20 iterations for p = 0.010000, n = 500\n",
      "Running 20 iterations for p = 0.031623, n = 500\n",
      "Running 20 iterations for p = 0.100000, n = 500\n",
      "Running 20 iterations for p = 0.316228, n = 500\n",
      "Running 20 iterations for p = 1.000000, n = 500\n"
     ]
    },
    {
     "data": {
      "image/png": "[encoded data removed]",
      "text/plain": [
       "<Figure size 432x288 with 1 Axes>"
      ]
     },
     "metadata": {
      "needs_background": "light"
     },
     "output_type": "display_data"
    }
   ],
   "source": [
    "ps = np.logspace(-4, 0, 9) #From 10^-4 to 1\n",
    "\n",
    "res = run_experiment(ps, n = 500, k = 30)\n",
    "\n",
    "L, C = np.transpose(res)\n",
    "L /= L[0]\n",
    "C /= C[0]\n",
    "\n",
    "#Normalize to start at 1\n",
    "\n",
    "plt.plot(ps, C, 's-', linewidth=1, label='C(p) / C(0)')\n",
    "plt.plot(ps, L, 'o-', linewidth=1, label='L(p) / L(0)')\n",
    "decorate(xlabel='Rewiring probability (p)', xscale='log',\n",
    "         title='Normalized clustering coefficient and path length',\n",
    "         xlim=[0.00009, 1.1], ylim=[-0.01, 1.01])"
   ]
  },
  {
   "cell_type": "code",
   "execution_count": 30,
   "metadata": {},
   "outputs": [
    {
     "name": "stdout",
     "output_type": "stream",
     "text": [
      "Running 20 iterations for p = 0.000100, n = 500\n",
      "Running 20 iterations for p = 0.000316, n = 500\n",
      "Running 20 iterations for p = 0.001000, n = 500\n",
      "Running 20 iterations for p = 0.003162, n = 500\n",
      "Running 20 iterations for p = 0.010000, n = 500\n",
      "Running 20 iterations for p = 0.031623, n = 500\n",
      "Running 20 iterations for p = 0.100000, n = 500\n",
      "Running 20 iterations for p = 0.316228, n = 500\n",
      "Running 20 iterations for p = 1.000000, n = 500\n"
     ]
    },
    {
     "data": {
      "image/png": "[encoded data removed]",
      "text/plain": [
       "<Figure size 432x288 with 1 Axes>"
      ]
     },
     "metadata": {
      "needs_background": "light"
     },
     "output_type": "display_data"
    }
   ],
   "source": [
    "ps = np.logspace(-4, 0, 9) #From 10^-4 to 1\n",
    "\n",
    "res = run_experiment(ps, n = 500, k = 50)\n",
    "\n",
    "L, C = np.transpose(res)\n",
    "L /= L[0]\n",
    "C /= C[0]\n",
    "\n",
    "#Normalize to start at 1\n",
    "\n",
    "plt.plot(ps, C, 's-', linewidth=1, label='C(p) / C(0)')\n",
    "plt.plot(ps, L, 'o-', linewidth=1, label='L(p) / L(0)')\n",
    "decorate(xlabel='Rewiring probability (p)', xscale='log',\n",
    "         title='Normalized clustering coefficient and path length',\n",
    "         xlim=[0.00009, 1.1], ylim=[-0.01, 1.01])"
   ]
  },
  {
   "cell_type": "markdown",
   "metadata": {},
   "source": [
    "We see here that the increased number of nodes also increased the path length."
   ]
  }
 ],
 "metadata": {
  "kernelspec": {
   "display_name": "Python 3",
   "language": "python",
   "name": "python3"
  },
  "language_info": {
   "codemirror_mode": {
    "name": "ipython",
    "version": 3
   },
   "file_extension": ".py",
   "mimetype": "text/x-python",
   "name": "python",
   "nbconvert_exporter": "python",
   "pygments_lexer": "ipython3",
   "version": "3.7.6"
  }
 },
 "nbformat": 4,
 "nbformat_minor": 1
}
