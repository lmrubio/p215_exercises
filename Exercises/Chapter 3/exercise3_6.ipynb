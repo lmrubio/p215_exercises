{
 "cells": [
  {
   "cell_type": "markdown",
   "metadata": {},
   "source": [
    "# Small World Graphs\n",
    "\n",
    "Code examples from [Think Complexity, 2nd edition](https://thinkcomplex.com).\n",
    "\n",
    "Copyright 2016 Allen Downey, [MIT License](http://opensource.org/licenses/MIT)"
   ]
  },
  {
   "cell_type": "code",
   "execution_count": 1,
   "metadata": {},
   "outputs": [],
   "source": [
    "%matplotlib inline\n",
    "\n",
    "import matplotlib.pyplot as plt\n",
    "import networkx as nx\n",
    "import numpy as np\n",
    "import seaborn as sns\n",
    "import random\n",
    "\n",
    "from utils import decorate, savefig\n",
    "\n",
    "# I set the random seed so the notebook \n",
    "# produces the same results every time.\n",
    "np.random.seed(17)"
   ]
  },
  {
   "cell_type": "code",
   "execution_count": 2,
   "metadata": {},
   "outputs": [],
   "source": [
    "# node colors for drawing networks\n",
    "colors = sns.color_palette('pastel', 5)\n",
    "#sns.palplot(colors)\n",
    "sns.set_palette(colors)"
   ]
  },
  {
   "cell_type": "markdown",
   "metadata": {},
   "source": [
    "**Exercise 3.6** Dijkstra’s algorithm solves the “single source shortest path” problem, but to compute the characteristic path length of a graph, we actually want to solve the “all pairs shortest path” problem.\n",
    "Of course, one option is to run Dijkstra’s algorithm n times, once for each starting node. And for some applications, that’s probably good enough. But there are are more efficient alternatives.\n",
    "Find an algorithm for the all-pairs shortest path problem and implement it. See http://thinkcomplex.com/short.\n",
    "Compare the run time of your implementation with running Dijkstra’s algorithm n times. Which algorithm is better in theory? Which is better in practice? Which one does NetworkX use?"
   ]
  },
  {
   "cell_type": "markdown",
   "metadata": {},
   "source": [
    "\n",
    "For this part, we try to implement Floyd-Warshall algorithm. This is the pseudocode:\n",
    "```\n",
    "let dist be a |V| × |V| array of minimum distances initialized to ∞ (infinity)\n",
    "for each edge (u, v) do  \n",
    "    dist[u][v] ← w(u, v)  // The weight of the edge (u, v)\n",
    "for each vertex v do\n",
    "    dist[v][v] ← 0\n",
    "for k from 1 to |V|\n",
    "    for i from 1 to |V|\n",
    "        for j from 1 to |V|\n",
    "            if dist[i][j] > dist[i][k] + dist[k][j] \n",
    "                dist[i][j] ← dist[i][k] + dist[k][j]\n",
    "            end if\n",
    "```"
   ]
  },
  {
   "cell_type": "markdown",
   "metadata": {},
   "source": [
    "Let's consider the following graph with weights:"
   ]
  },
  {
   "cell_type": "code",
   "execution_count": 3,
   "metadata": {},
   "outputs": [
    {
     "data": {
      "text/plain": [
       "{(0, 3): 5,\n",
       " (0, 1): 3,\n",
       " (1, 3): 4,\n",
       " (1, 0): 2,\n",
       " (2, 1): 1,\n",
       " (3, 2): 2,\n",
       " (3, 4): 1,\n",
       " (4, 0): 4,\n",
       " (4, 2): 1}"
      ]
     },
     "execution_count": 3,
     "metadata": {},
     "output_type": "execute_result"
    },
    {
     "data": {
      "image/png": "[encoded data removed]",
      "text/plain": [
       "<Figure size 432x288 with 1 Axes>"
      ]
     },
     "metadata": {},
     "output_type": "display_data"
    }
   ],
   "source": [
    "nodes = range(5)\n",
    "edges = {(0,1,3),\n",
    "         (1,0,2),\n",
    "        (0, 3,5),\n",
    "        (2, 1,1),\n",
    "        (3, 2,2),\n",
    "        (1,3,4),\n",
    "        (4,0,4),\n",
    "        (4,2,1),\n",
    "        (3,4,1)}\n",
    "\n",
    "G = nx.DiGraph()\n",
    "G.add_nodes_from(nodes)\n",
    "G.add_weighted_edges_from(edges)\n",
    "\n",
    "nx.draw_circular(G, \n",
    "        node_color='C1', \n",
    "        node_size=2500, \n",
    "        with_labels=True)\n",
    "\n",
    "labels = nx.get_edge_attributes(G,'weight')\n",
    "labels"
   ]
  },
  {
   "cell_type": "code",
   "execution_count": 4,
   "metadata": {},
   "outputs": [
    {
     "data": {
      "text/plain": [
       "array([[0., 0., 0., 0.],\n",
       "       [0., 0., 0., 0.],\n",
       "       [0., 0., 0., 0.],\n",
       "       [0., 0., 0., 0.]])"
      ]
     },
     "execution_count": 4,
     "metadata": {},
     "output_type": "execute_result"
    }
   ],
   "source": [
    "np.zeros((4,4))"
   ]
  },
  {
   "cell_type": "markdown",
   "metadata": {},
   "source": [
    "Following the pseudocode, we come up with 2 functions. The only difference is how the original array is initialized. We will compare how this runs with other functions in networkx."
   ]
  },
  {
   "cell_type": "code",
   "execution_count": 5,
   "metadata": {},
   "outputs": [],
   "source": [
    "def floyd_warshall(G):\n",
    "    size = len(G)\n",
    "    high = np.inf\n",
    "    #Initialize Array 1\n",
    "    \n",
    "    dist_array = np.zeros((size,size))\n",
    "    \n",
    "    #This for loop initializes the dist array\n",
    "    for u in range(size):\n",
    "        for v in range(size):\n",
    "            try:\n",
    "                dist = G.get_edge_data(u,v)['weight']\n",
    "            except:\n",
    "                dist = high\n",
    "            \n",
    "            dist_array[u,v] = dist\n",
    "        dist_array[u,u] = 0\n",
    "    \n",
    "    \n",
    "    #k is the node that we are starting from \n",
    "    for k in range(size):\n",
    "        for i in range(size):\n",
    "            for j in range (size):\n",
    "                 dist_array[i][j] = min(dist_array[i][j], dist_array[i][k] + dist_array[k][j])\n",
    "    \n",
    "    return dist_array\n"
   ]
  },
  {
   "cell_type": "code",
   "execution_count": 6,
   "metadata": {},
   "outputs": [],
   "source": [
    "def floyd_warshall_ver2(G):\n",
    "    size = len(G)\n",
    "    high = np.inf\n",
    "    #Initialize Array 1\n",
    "\n",
    "    dist_array = np.ones((size,size))*high\n",
    "\n",
    "    #This for loop initializes the weights in the array\n",
    "    for u,v in G.edges():\n",
    "        dist_array[u,v] = G.get_edge_data(u,v)['weight']\n",
    "\n",
    "    #Set diagonal to 0\n",
    "    for u in range(size):\n",
    "        dist_array[u,u] = 0\n",
    "\n",
    "        \n",
    "    #k is the node that we are starting from \n",
    "    for k in range(size):\n",
    "        for i in range(size):\n",
    "            for j in range (size):\n",
    "                 dist_array[i][j] = min(dist_array[i][j], dist_array[i][k] + dist_array[k][j])\n",
    "    \n",
    "    return dist_array\n",
    "\n"
   ]
  },
  {
   "cell_type": "code",
   "execution_count": 7,
   "metadata": {},
   "outputs": [
    {
     "name": "stdout",
     "output_type": "stream",
     "text": [
      "279 µs ± 20.5 µs per loop (mean ± std. dev. of 7 runs, 1000 loops each)\n"
     ]
    }
   ],
   "source": [
    "%timeit floyd_warshall(G)"
   ]
  },
  {
   "cell_type": "code",
   "execution_count": 8,
   "metadata": {},
   "outputs": [
    {
     "name": "stdout",
     "output_type": "stream",
     "text": [
      "267 µs ± 15.2 µs per loop (mean ± std. dev. of 7 runs, 1000 loops each)\n"
     ]
    }
   ],
   "source": [
    "%timeit floyd_warshall_ver2(G)"
   ]
  },
  {
   "cell_type": "code",
   "execution_count": 9,
   "metadata": {},
   "outputs": [
    {
     "name": "stdout",
     "output_type": "stream",
     "text": [
      "52.1 µs ± 1.99 µs per loop (mean ± std. dev. of 7 runs, 10000 loops each)\n"
     ]
    }
   ],
   "source": [
    "%timeit list(nx.all_pairs_dijkstra_path_length(G))"
   ]
  },
  {
   "cell_type": "code",
   "execution_count": 10,
   "metadata": {},
   "outputs": [
    {
     "name": "stdout",
     "output_type": "stream",
     "text": [
      "51.9 µs ± 1.88 µs per loop (mean ± std. dev. of 7 runs, 10000 loops each)\n"
     ]
    }
   ],
   "source": [
    "%timeit [nx.single_source_dijkstra_path_length(G,i) for i in G.nodes()]"
   ]
  },
  {
   "cell_type": "code",
   "execution_count": 11,
   "metadata": {},
   "outputs": [
    {
     "data": {
      "text/plain": [
       "array([[0., 3., 7., 5., 6.],\n",
       "       [2., 0., 6., 4., 5.],\n",
       "       [3., 1., 0., 5., 6.],\n",
       "       [5., 3., 2., 0., 1.],\n",
       "       [4., 2., 1., 6., 0.]])"
      ]
     },
     "execution_count": 11,
     "metadata": {},
     "output_type": "execute_result"
    }
   ],
   "source": [
    "floyd_warshall(G)"
   ]
  },
  {
   "cell_type": "code",
   "execution_count": 12,
   "metadata": {},
   "outputs": [
    {
     "data": {
      "text/plain": [
       "array([[0., 3., 7., 5., 6.],\n",
       "       [2., 0., 6., 4., 5.],\n",
       "       [3., 1., 0., 5., 6.],\n",
       "       [5., 3., 2., 0., 1.],\n",
       "       [4., 2., 1., 6., 0.]])"
      ]
     },
     "execution_count": 12,
     "metadata": {},
     "output_type": "execute_result"
    }
   ],
   "source": [
    "floyd_warshall_ver2(G)"
   ]
  },
  {
   "cell_type": "code",
   "execution_count": 13,
   "metadata": {},
   "outputs": [
    {
     "data": {
      "text/plain": [
       "[(0, {0: 0, 1: 3, 3: 5, 4: 6, 2: 7}),\n",
       " (1, {1: 0, 0: 2, 3: 4, 4: 5, 2: 6}),\n",
       " (2, {2: 0, 1: 1, 0: 3, 3: 5, 4: 6}),\n",
       " (3, {3: 0, 4: 1, 2: 2, 1: 3, 0: 5}),\n",
       " (4, {4: 0, 2: 1, 1: 2, 0: 4, 3: 6})]"
      ]
     },
     "execution_count": 13,
     "metadata": {},
     "output_type": "execute_result"
    }
   ],
   "source": [
    "list(nx.all_pairs_dijkstra_path_length(G))"
   ]
  },
  {
   "cell_type": "code",
   "execution_count": 14,
   "metadata": {},
   "outputs": [
    {
     "data": {
      "text/plain": [
       "[{0: 0, 1: 3, 3: 5, 4: 6, 2: 7},\n",
       " {1: 0, 0: 2, 3: 4, 4: 5, 2: 6},\n",
       " {2: 0, 1: 1, 0: 3, 3: 5, 4: 6},\n",
       " {3: 0, 4: 1, 2: 2, 1: 3, 0: 5},\n",
       " {4: 0, 2: 1, 1: 2, 0: 4, 3: 6}]"
      ]
     },
     "execution_count": 14,
     "metadata": {},
     "output_type": "execute_result"
    }
   ],
   "source": [
    "[nx.single_source_dijkstra_path_length(G,i) for i in G.nodes()]"
   ]
  },
  {
   "cell_type": "markdown",
   "metadata": {},
   "source": [
    "All have the same results, but we see that our implementation of Floyd-Warshall (for both cases is slower than running NetworkX's Dijkstra n times and NetworkX's implementation of all pairs dijkstra distance. \n",
    "\n",
    "In theory, the order of growth of Floyd-Warshall is $n^3$ (we loop through the nodes three times, it's also nested for loops).\n",
    "\n",
    "For the implementation, sometimes, version 2 is faster because it has two separate for loops instead of two nested for loops. This implementation only works for weighted networks without negative cycles. In our test network, all the weights are positive."
   ]
  }
 ],
 "metadata": {
  "kernelspec": {
   "display_name": "Python 3",
   "language": "python",
   "name": "python3"
  },
  "language_info": {
   "codemirror_mode": {
    "name": "ipython",
    "version": 3
   },
   "file_extension": ".py",
   "mimetype": "text/x-python",
   "name": "python",
   "nbconvert_exporter": "python",
   "pygments_lexer": "ipython3",
   "version": "3.7.6"
  }
 },
 "nbformat": 4,
 "nbformat_minor": 1
}
